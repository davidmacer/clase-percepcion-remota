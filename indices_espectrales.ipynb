{
 "cells": [
  {
   "cell_type": "markdown",
   "metadata": {},
   "source": [
    "# Índices espectrales\n",
    "## Percepción Remota y Análisis Digital de Imágenes\n",
    "### David Martínez"
   ]
  },
  {
   "cell_type": "markdown",
   "metadata": {},
   "source": [
    "### Tabla de contenido\n",
    "\n",
    "1. [SAVI](#savi)\n",
    "1. [ARVI](#arvi)\n",
    "1. [EVI](#evi)\n",
    "1. [LAI](#lai)\n",
    "1. [NDWI](#ndwi)\n",
    "1. [NBR](#nbr)\n",
    "1. [AVI](#avi)\n",
    "1. [NDMI](#ndmi)\n",
    "1. [GCI](#gci)\n",
    "1. [SIPI](#sipi)"
   ]
  },
  {
   "cell_type": "markdown",
   "metadata": {},
   "source": [
    "### SAVI <a class=\"anchor\" id=\"savi\"></a>\n",
    "\n",
    "\n",
    "**Descripción**\n",
    "\n",
    "El Índice de Vegetación Ajustado al Suelo (SAVI, por sus siglas en inglés) fue diseñado para minimizar las influencias del brillo del suelo. Fue añadido un factor de ajuste del suelo $L$ a la ecuación del Índice de Diferencias de Vegetación Normalizado (NDVI, por sus siglas en inglés) para corregir los efector del ruido del suelo (color del suelo, humedad del suelo, variabilidad del suelo entre regiones, etc.) que tienden a afectar los resultados.\n",
    "\n",
    "**Fórmula** \n",
    "\n",
    "La fórmula del índice de vegetación SAVI es la siguiente:\n",
    "\n",
    "$$\\text{SAVI} = \\frac{\\text{NIR} - \\text{Red}}{\\text{NIR} + \\text{Red} + L} \\cdot (1 + L)$$\n",
    "\n",
    "Donde NIR corresponde a la banda del Infrarrojo cercano, Red corresponde a la banda del rojo y $L$ es el factor de corrección cuyo valor va de -1 a 1, dependiendo de la cantidad de vegetación verde presente en la zona.\n",
    "\n",
    "**¿Cuándo utilizarlo?**\n",
    "\n",
    "Se recomienda utilizarlo para el análisis de cultivos jóvenes; para regiones áridas con vegetación escasa y superficies del suelo expuestas."
   ]
  },
  {
   "cell_type": "markdown",
   "metadata": {},
   "source": [
    "### ARVI <a class=\"anchor\" id=\"arvi\"></a>\n",
    "\n",
    "**Descripción**\n",
    "\n",
    "El Índice de Vegetación Resistente a la Atmósfera (ARVI, por sus siglas en inglés) es el primer índice de vegetación que es relativamente sensible a los factores atmosféricos (como partículas). La fórmula del índice ARVI es básicamente el NDVI corrigiendo los efectos de la dispersión atmosférica en el espectro de reflectancia roja utilizando las mediciones en longitudes de onda azules.\n",
    "\n",
    "En comparación con otros índices, el índice ARVI es también más resistente a los efectos topográficos, lo que lo convierte en una herramienta de vigilancia muy eficaz para las regiones montañosas tropicales, a menudo contamindas por el hollín procedente de la agricultura de tala y quema.\n",
    "\n",
    "**Fórmula**\n",
    "\n",
    "$$ARVI = \\frac{\\text{NIR} - (2 \\cdot \\text{Red}) + \\text{Blue}}{\\text{NIR} + (2 \\cdot \\text{Red}) + \\text{Blue}}$$\n",
    "\n",
    "Donde Blue corresponde a la banda del azul.\n",
    "\n",
    "**¿Cuándo utilizarlo?**\n",
    "\n",
    "En regiones con alto contenido de partículas atmosféricas (lluvia, niebla, polvo, humo o contaminación atmosférica)."
   ]
  },
  {
   "cell_type": "markdown",
   "metadata": {},
   "source": [
    "### EVI <a class=\"anchor\" id=\"evi\"></a>\n",
    "\n",
    "**Descripción**\n",
    "\n",
    "El Índice de Vegetación Mejorado (EVI, por sus siglas en inglés) fue inventado para corregir simultáneamente los resultados del NDVI cuando hay influencias atmosféricas y respecto a las señales de fondo del suelo, especialmente en zonas con una cubierta vegetal densa. El intervalo de valores para el EVI es de -1 a 1, y para la vegetación sana varía entre 0.2 y 0.8.\n",
    "\n",
    "**Fórmula**\n",
    "\n",
    "$$\\text{EVI} = 2.5 \\Big( \\frac{\\text{NIR} - \\text{Red}}{\\text{NIR} + (C_1 \\cdot \\text{Red}) - (C_2 \\cdot \\text{Blue}) + L} \\Big)$$\n",
    "\n",
    "Donde $C_1$ y $C_2$ son los coeficientes para corregir la dispersión de partículas presentes en la atmósfera y $L$ para ajustar el fondo del suelo y la cubierta. Tradicionalmente, para el sensor MODIS de la NASA (para el que se desarrolló el índice EVI) $C_1 = 6$, $C_2 = 7.5$ y $L = 1$; aunque pueden ser valores distintos, para los datos de Sentinel 2 o Landsat 8, se pueden utilizar los mismos valores.\n",
    "\n",
    "**¿Cuándo utilizarlo?**\n",
    "\n",
    "Para analizar áreas de la Tierra con grandes cantidades de clorofila (como selvas tropicales) y, preferiblemente, con efectos topográficos mínimos (regiones no montañosas)."
   ]
  },
  {
   "cell_type": "markdown",
   "metadata": {},
   "source": [
    "### LAI <a class=\"anchor\" id=\"lai\"></a>\n",
    "\n",
    "**Descripción**\n",
    "\n",
    "El Índice de Área Foliar (LAI, por sus siglas en inglés), es uno de los parámetros más útiles para medir la vegetación, independientemente del área o bioma. Es el cociente del área total de las hojas de una planta entre el área de suelo que dicha planta ocupa; es decir, una planta con un valor de LAI de 2 indica que sus hojas pueden llegar a cubrir 2 veces un área determinada.\n",
    "\n",
    "Además, es un buen indicador de biomasa y resistencia vegetal. Este índice puede ayudar a obtener información muy valiosa sobre la planta, por ejemplo, la absorción de radiación o el balance hídrico de la planta.\n",
    "\n",
    "**Fórmula**\n",
    "\n",
    "$$\\text{LAI} = \\frac{\\text{Área foliar}}{\\text{Área de tierra que abarca ese vegetal}}$$\n",
    "\n",
    "Para calcular el LAI se usa un mayor número de bandas que en el NDVI y se tiene en cuenta el mapa de los tipos de cobertura de la superficie de la Tierra. Los valores de LAI suelen situarse entre 0 y 3.5 aproximadamente.\n",
    "\n",
    "**¿Cuándo utilizarlo?**\n",
    "\n",
    "Para evaluar el estado de los cultivos, así como un parámetro de entrada a la creación de un modelo para predecir productividad."
   ]
  },
  {
   "cell_type": "markdown",
   "metadata": {},
   "source": [
    "### NDWI <a class=\"anchor\" id=\"ndwi\"></a>\n",
    "\n",
    "**Descripción**\n",
    "\n",
    "El Índice Diferencial de Agua Normalizado (NDWI, por sus siglas en inglés) es un índice que, apoyándose en variaciones en la radiación del infrarrojo cercano (NIR) y la luz verde visible (Green), sirve para destacar y delinear masas de agua abierta. También permite obtener lecturas sobre la cantidad de humedad que posee el suelo, así como el contenido de agua de la vegetación.\n",
    "\n",
    "**Fórmula**\n",
    "\n",
    "$$\\text{NDWI} = \\frac{\\text{Green} - \\text{NIR}}{\\text{Green} + \\text{NIR}}$$\n",
    "\n",
    "**¿Cuándo utilizarlo?**\n",
    "\n",
    "Para la detección de tierras agrícolas inundadas; distribución de las inundaciones en el campo; detección de tierras agrícolas de regadío; distribución de humedales."
   ]
  },
  {
   "cell_type": "markdown",
   "metadata": {},
   "source": [
    "### NBR <a class=\"anchor\" id=\"nbr\"></a>\n",
    "\n",
    "**Descripción**\n",
    "\n",
    "El Índice Normalizado de Calcinación (NBR, por sus siglas en inglés) se utiliza para resaltar áreas quemadas después de un incendio. La ecuación del índice NBR incluye mediciones en ambas longitudes de onda infrarrojo cercano (NIR) y del infrarrojo de onda corta (SWIR): la vegetación sana muestra una alta reflectancia en el NIR, mientras que las áras recientemente quemadas se reflejan altamente en el espectro SWIR.\n",
    "\n",
    "**Fórmula**\n",
    "\n",
    "$$\\text{NBR} = \\frac{\\text{NIR} - \\text{SWIR}}{\\text{NIR} + \\text{SWIR}}$$\n",
    "\n",
    "Es una práctica común evaluar la extensión y severidad de un incendio con la diferencia relativa del NBR, que ha mostrado una mejor respuesta a los cambios en el paisaje causados por el fuego. Es la diferencia entre el NBR calculado a partir de una imagen de un área antes del incendio y el NBR calculado de una imagen tomada inmediatamente después de dicho incendio.\n",
    "\n",
    "**¿Cuándo utilizarlo?**\n",
    "\n",
    "El uso típico del índice NBR para la agricultura y la silvicultura es la detección de incendios activos, el análisis de la gravedad del fuego y el estudio de la supervivencia de la vegetación después de la quema."
   ]
  },
  {
   "cell_type": "markdown",
   "metadata": {},
   "source": [
    "### AVI <a class=\"anchor\" id=\"avi\"></a>\n",
    "\n",
    "**Descripción**\n",
    "\n",
    "El Índice de Vegetación Avanzada (AVI, por sus siglas en inglés) es un indicador numérico, similar al NDVI, que utiliza las bandas espectrales roja (Red) y del infrarrojo cercano (NIR). Al igual que el NDVI, el AVI se utiliza en estudios de vegetación para monitorear las variaciones de cultivos en bosques a lo largo del tiempo\n",
    "\n",
    "**Fórmula**\n",
    "\n",
    "$$\\text{AVI} = [\\text{NIR} \\cdot (1 - \\text{Red}) \\cdot (\\text{NIR} - \\text{Red})]^{1/3}$$\n",
    "\n",
    "**¿Cuándo utilizarlo?**\n",
    "\n",
    "Para monitorear bosques y discriminar diferentes tipos de vegetación y extraer características o parámetros fenológicos."
   ]
  },
  {
   "cell_type": "markdown",
   "metadata": {},
   "source": [
    "### NDMI <a class=\"anchor\" id=\"ndmi\"></a>\n",
    "\n",
    "**Descripción**\n",
    "\n",
    "El Índice de Diferencia Normalizada de Humedad (NDMI, por sus siglas en inglés) se utiliza para determinar el contenido de agua de la vegetación. Se calcula como una relación entre los valores del infrarrojo cercano (NIR) y el infrarrojo de onda corta (SWIR) de forma tradicional.\n",
    "\n",
    "**Fórmula**\n",
    "\n",
    "$$\\text{NDMI} = \\frac{\\text{NIR} - \\text{SWIR}}{\\text{NIR} + \\text{SIWR}}$$\n",
    "\n",
    "**¿Cuándo utilizarlo?**\n",
    "\n",
    "Para monitorear cambios en el contenido de agua de las hojas."
   ]
  },
  {
   "cell_type": "markdown",
   "metadata": {},
   "source": [
    "### GCI <a class=\"anchor\" id=\"gci\"></a>\n",
    "\n",
    "**Descripción**\n",
    "\n",
    "El Índice de Clorofila (GCI, Green Coverage Index) se utiliza para estimar el contenido de clorofila en las hojas de diversas especies de plantas. El contenido de clorofila releja el estado fisiológico de la vegetación; disminuye en las plantas estresadas y, por lo tanto, puede utilizarse como medida de salud de las plantas.\n",
    "\n",
    "**Fórmula**\n",
    "\n",
    "$$\\text{GCI} = \\frac{\\text{NIR}}{\\text{Green} - 1}$$\n",
    "\n",
    "**¿Cuándo utilizarlo?**\n",
    "\n",
    "Para monitorear el impacto de la estacionalidad, estrés ambiental o el uso de insecticidas en plantas saludables."
   ]
  },
  {
   "cell_type": "markdown",
   "metadata": {},
   "source": [
    "### Índice de Pigmentación Insensible a la Estructura (SIPI) <a class=\"anchor\" id=\"sipi\"></a>\n",
    "\n",
    "**Descripción**\n",
    "\n",
    "El SIPI es bueno para el análisis de la vegetación con variación en la estructura del dosel. Estima la proporción de carotenoides a clorofila: entre mayores sean los valores es señal de estrés en la vegetación.\n",
    "\n",
    "Altos valores del índice SIPI (incrementan los carotenoides y decrementa la clorofila) es usualmente un indicador de una planta muerta, el cual es asociado con baja pérdida de clorofila en la planta.\n",
    "\n",
    "**Fórmula**\n",
    "\n",
    "$$\\text{SIPI} = \\frac{\\text{NIR} - \\text{Blue}}{\\text{NIR} - \\text{Red}}$$\n",
    "\n",
    "**¿Cuándo utilizarlo?**\n",
    "\n",
    "Para monitorear la salud de las plantas en regiones con una alta variablidad de la estructura del dosel. Para una detección temprana de muerte de las plantas u otras causas de estrés."
   ]
  },
  {
   "cell_type": "markdown",
   "metadata": {},
   "source": [
    "## Referencias\n",
    "\n",
    "https://www.usgs.gov/core-science-systems/nli/landsat/landsat-surface-reflectance-derived-spectral-indices?qt-science_support_page_related_con=0#qt-science_support_page_related_con\n",
    "\n",
    "https://eos.com/es/blog/indices-de-vegetacion/\n",
    "\n",
    "https://www.geo.university/pages/blog?p=spectral-indices-with-multispectral-satellite-data"
   ]
  }
 ],
 "metadata": {
  "kernelspec": {
   "display_name": "Python 3",
   "language": "python",
   "name": "python3"
  },
  "language_info": {
   "codemirror_mode": {
    "name": "ipython",
    "version": 3
   },
   "file_extension": ".py",
   "mimetype": "text/x-python",
   "name": "python",
   "nbconvert_exporter": "python",
   "pygments_lexer": "ipython3",
   "version": "3.8.5"
  }
 },
 "nbformat": 4,
 "nbformat_minor": 2
}